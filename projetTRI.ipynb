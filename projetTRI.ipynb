{
 "cells": [
  {
   "cell_type": "code",
   "execution_count": 2,
   "metadata": {},
   "outputs": [],
   "source": [
    "from numpy import zeros,array\n",
    "import numpy"
   ]
  },
  {
   "cell_type": "code",
   "execution_count": 3,
   "metadata": {},
   "outputs": [],
   "source": [
    "def tri_selection(tableau):\n",
    "    nb = len(tableau)\n",
    "    for en_cours in range(0,nb):    \n",
    "        plus_petit = en_cours\n",
    "        for j in range(en_cours+1,nb) :\n",
    "            if tableau[j] < tableau[plus_petit] :\n",
    "                plus_petit = j\n",
    "        if min is not en_cours :\n",
    "            temp = tableau[en_cours]\n",
    "            tableau[en_cours] = tableau[plus_petit]\n",
    "            tableau[plus_petit] = temp\n",
    "    return tableau"
   ]
  },
  {
   "cell_type": "code",
   "execution_count": 4,
   "metadata": {},
   "outputs": [
    {
     "data": {
      "text/plain": [
       "array([0, 4, 5, 6, 7, 9, 9, 9, 9, 9])"
      ]
     },
     "execution_count": 4,
     "metadata": {},
     "output_type": "execute_result"
    }
   ],
   "source": [
    "tableau = numpy.random.randint(0,10,size=10)\n",
    "tri_selection(tableau)"
   ]
  },
  {
   "cell_type": "code",
   "execution_count": 5,
   "metadata": {},
   "outputs": [],
   "source": [
    "def tri_bulle(tableau):\n",
    "    permutation = True\n",
    "    passage = 0\n",
    "    while permutation == True:\n",
    "        permutation = False\n",
    "        passage = passage + 1\n",
    "        for en_cours in range(0, len(tableau) - passage):\n",
    "            if tableau[en_cours] > tableau[en_cours + 1]:\n",
    "                permutation = True\n",
    "                # On echange les deux elements\n",
    "                tableau[en_cours], tableau[en_cours + 1] = \\\n",
    "                tableau[en_cours + 1],tableau[en_cours]\n",
    "    return tableau  "
   ]
  },
  {
   "cell_type": "code",
   "execution_count": 6,
   "metadata": {},
   "outputs": [
    {
     "data": {
      "text/plain": [
       "array([0, 0, 2, 4, 4, 4, 5, 6, 7, 8])"
      ]
     },
     "execution_count": 6,
     "metadata": {},
     "output_type": "execute_result"
    }
   ],
   "source": [
    "tableau = numpy.random.randint(0,10,size=10)\n",
    "tri_bulle(tableau)"
   ]
  },
  {
   "cell_type": "code",
   "execution_count": 7,
   "metadata": {},
   "outputs": [],
   "source": [
    "def tri_insertion(tableau):\n",
    "    for i in range(1,len(tableau)):\n",
    "        en_cours = tableau[i]\n",
    "        j = i\n",
    "        #décalage des éléments du tableau }\n",
    "        while j>0 and tableau[j-1]>en_cours:\n",
    "            tableau[j]=tableau[j-1]\n",
    "            j = j-1\n",
    "        #on insère l'élément à sa place\n",
    "        tableau[j]=en_cours\n",
    "    return tableau"
   ]
  },
  {
   "cell_type": "code",
   "execution_count": 8,
   "metadata": {},
   "outputs": [
    {
     "data": {
      "text/plain": [
       "array([0, 1, 3, 4, 4, 4, 5, 7, 7, 9])"
      ]
     },
     "execution_count": 8,
     "metadata": {},
     "output_type": "execute_result"
    }
   ],
   "source": [
    "tableau = numpy.random.randint(0,10,size=10)\n",
    "tri_insertion(tableau)"
   ]
  },
  {
   "cell_type": "code",
   "execution_count": 9,
   "metadata": {},
   "outputs": [],
   "source": [
    "def fusion(gauche,droite):\n",
    "    resultat = []\n",
    "    index_gauche, index_droite = 0, 0\n",
    "    while index_gauche < len(gauche) and index_droite < len(droite):        \n",
    "        if gauche[index_gauche] <= droite[index_droite]:\n",
    "            resultat.append(gauche[index_gauche])\n",
    "            index_gauche += 1\n",
    "        else:\n",
    "            resultat.append(droite[index_droite])\n",
    "            index_droite += 1\n",
    "    if gauche:\n",
    "        resultat.extend(gauche[index_gauche:])\n",
    "    if droite:\n",
    "        resultat.extend(droite[index_droite:])\n",
    "    return resultat\n",
    " \n",
    "def tri_fusion(m):\n",
    "    if len(m) <= 1:\n",
    "        return m\n",
    "    milieu = len(m) // 2\n",
    "    gauche = m[:milieu]\n",
    "    droite = m[milieu:]\n",
    "    gauche = tri_fusion(gauche)\n",
    "    droite = tri_fusion(droite)\n",
    "    return list(fusion(gauche, droite))"
   ]
  },
  {
   "cell_type": "code",
   "execution_count": 10,
   "metadata": {},
   "outputs": [
    {
     "data": {
      "text/plain": [
       "[0, 1, 2, 2, 3, 4, 4, 5, 7, 7]"
      ]
     },
     "execution_count": 10,
     "metadata": {},
     "output_type": "execute_result"
    }
   ],
   "source": [
    "tableau = numpy.random.randint(0,10,size=10)\n",
    "tri_fusion(tableau)"
   ]
  },
  {
   "cell_type": "code",
   "execution_count": 11,
   "metadata": {},
   "outputs": [],
   "source": [
    "def tri_rapide(t):\n",
    "    if t == []:\n",
    "        return []\n",
    "    else:\n",
    "        pivot = t[0]\n",
    "        t1 = []\n",
    "        t2 = []\n",
    "    for x in t[1:]:\n",
    "        if x<pivot:\n",
    "            t1.append(x)\n",
    "        else:\n",
    "            t2.append(x)\n",
    "    return tri_rapide(t1)+[pivot]+tri_rapide(t2)\n"
   ]
  },
  {
   "cell_type": "code",
   "execution_count": 12,
   "metadata": {},
   "outputs": [
    {
     "name": "stderr",
     "output_type": "stream",
     "text": [
      "<ipython-input-11-fcc77b81c130>:2: DeprecationWarning: elementwise comparison failed; this will raise an error in the future.\n",
      "  if t == []:\n"
     ]
    },
    {
     "data": {
      "text/plain": [
       "[1, 2, 3, 3, 5, 5, 7, 7, 7, 8]"
      ]
     },
     "execution_count": 12,
     "metadata": {},
     "output_type": "execute_result"
    }
   ],
   "source": [
    "tableau = numpy.random.randint(0,10,size=10)\n",
    "tri_rapide(tableau)"
   ]
  },
  {
   "cell_type": "code",
   "execution_count": 13,
   "metadata": {},
   "outputs": [],
   "source": [
    "import time\n",
    "import numpy"
   ]
  },
  {
   "cell_type": "code",
   "execution_count": 14,
   "metadata": {},
   "outputs": [],
   "source": [
    "def temps_insertion(N):\n",
    "    n=100\n",
    "    t1 =time.time()\n",
    "    for k in range(n):\n",
    "        liste = numpy.random.randint(0,N,size=N)\n",
    "        tri_insertion(liste)\n",
    "    t1 = time.time()-t1\n",
    "    return t1"
   ]
  },
  {
   "cell_type": "code",
   "execution_count": 15,
   "metadata": {},
   "outputs": [
    {
     "data": {
      "text/plain": [
       "0.008867025375366211"
      ]
     },
     "execution_count": 15,
     "metadata": {},
     "output_type": "execute_result"
    }
   ],
   "source": [
    "temps_insertion(10)"
   ]
  },
  {
   "cell_type": "code",
   "execution_count": 16,
   "metadata": {},
   "outputs": [
    {
     "name": "stdout",
     "output_type": "stream",
     "text": [
      "[0.1319434642791748, 0.48674845695495605]\n"
     ]
    }
   ],
   "source": [
    "M=[50, 100]#, 3000, 4000, 5000, 6000]\n",
    "z=[]\n",
    "for i in M:\n",
    "    z.append(temps_insertion(i))\n",
    "print(z)    "
   ]
  },
  {
   "cell_type": "code",
   "execution_count": 17,
   "metadata": {},
   "outputs": [],
   "source": [
    "def temps_selection(N):\n",
    "    n=100\n",
    "    t1 =time.time()\n",
    "    for k in range(n):\n",
    "        liste = numpy.random.randint(0,N,size=N)\n",
    "        tri_selection(liste)\n",
    "    t1 = time.time()-t1\n",
    "    return t1"
   ]
  },
  {
   "cell_type": "code",
   "execution_count": 18,
   "metadata": {},
   "outputs": [],
   "source": [
    "def temps_bulle(N):\n",
    "    n=100\n",
    "    t1 =time.time()\n",
    "    for k in range(n):\n",
    "        liste = numpy.random.randint(0,N,size=N)\n",
    "        tri_bulle(liste)\n",
    "    t1 = time.time()-t1\n",
    "    return t1"
   ]
  },
  {
   "cell_type": "code",
   "execution_count": 19,
   "metadata": {},
   "outputs": [],
   "source": [
    " def temps_fusion(N):\n",
    "    n=100\n",
    "    t1 =time.time()\n",
    "    for k in range(n):\n",
    "        liste = numpy.random.randint(0,N,size=N)\n",
    "        tri_fusion(liste)\n",
    "    t1 = time.time()-t1\n",
    "    return t1"
   ]
  },
  {
   "cell_type": "code",
   "execution_count": 20,
   "metadata": {},
   "outputs": [],
   "source": [
    "def temps_rapide(N):\n",
    "    n=100\n",
    "    t1 =time.time()\n",
    "    for k in range(n):\n",
    "        liste = numpy.random.randint(0,N,size=N)\n",
    "        tri_rapide(liste)\n",
    "    t1 = time.time()-t1\n",
    "    return t1"
   ]
  },
  {
   "cell_type": "code",
   "execution_count": null,
   "metadata": {},
   "outputs": [
    {
     "name": "stderr",
     "output_type": "stream",
     "text": [
      "<ipython-input-11-fcc77b81c130>:2: DeprecationWarning: elementwise comparison failed; this will raise an error in the future.\n",
      "  if t == []:\n"
     ]
    }
   ],
   "source": [
    "M=[50, 100, 1000, 2000, 4000, 5000]#, 3000, 4000, 5000, 6000]\n",
    "ins=[]\n",
    "selc=[]\n",
    "rap=[]\n",
    "fusi=[]\n",
    "bulle=[]\n",
    "for i in M:\n",
    "    ins.append(temps_insertion(i))\n",
    "    selc.append(temps_selection(i))\n",
    "    rap.append(temps_rapide(i))\n",
    "    fusi.append(temps_fusion(i))\n",
    "    bulle.append(temps_bulle(i))\n",
    "print(ins)\n",
    "print(selc)\n",
    "print(rap)\n",
    "print(fusi)\n",
    "print(bulle)\n"
   ]
  },
  {
   "cell_type": "code",
   "execution_count": 1,
   "metadata": {},
   "outputs": [
    {
     "ename": "NameError",
     "evalue": "name 'selc' is not defined",
     "output_type": "error",
     "traceback": [
      "\u001b[1;31m---------------------------------------------------------------------------\u001b[0m",
      "\u001b[1;31mNameError\u001b[0m                                 Traceback (most recent call last)",
      "\u001b[1;32m<ipython-input-1-e92d56f7e781>\u001b[0m in \u001b[0;36m<module>\u001b[1;34m\u001b[0m\n\u001b[0;32m      1\u001b[0m \u001b[1;32mimport\u001b[0m \u001b[0mmatplotlib\u001b[0m\u001b[1;33m.\u001b[0m\u001b[0mpyplot\u001b[0m \u001b[1;32mas\u001b[0m \u001b[0mplt\u001b[0m\u001b[1;33m\u001b[0m\u001b[1;33m\u001b[0m\u001b[0m\n\u001b[1;32m----> 2\u001b[1;33m \u001b[0my_selection\u001b[0m\u001b[1;33m=\u001b[0m\u001b[0mselc\u001b[0m\u001b[1;33m\u001b[0m\u001b[1;33m\u001b[0m\u001b[0m\n\u001b[0m\u001b[0;32m      3\u001b[0m \u001b[0my_insertion\u001b[0m\u001b[1;33m=\u001b[0m\u001b[0mins\u001b[0m\u001b[1;33m\u001b[0m\u001b[1;33m\u001b[0m\u001b[0m\n\u001b[0;32m      4\u001b[0m \u001b[0my_bulle\u001b[0m\u001b[1;33m=\u001b[0m\u001b[0mbulle\u001b[0m\u001b[1;33m\u001b[0m\u001b[1;33m\u001b[0m\u001b[0m\n\u001b[0;32m      5\u001b[0m \u001b[0my_rapid\u001b[0m\u001b[1;33m=\u001b[0m\u001b[0mrap\u001b[0m\u001b[1;33m\u001b[0m\u001b[1;33m\u001b[0m\u001b[0m\n",
      "\u001b[1;31mNameError\u001b[0m: name 'selc' is not defined"
     ]
    }
   ],
   "source": [
    "import matplotlib.pyplot as plt\n",
    "y_selection=selc\n",
    "y_insertion=ins\n",
    "y_bulle=bulle\n",
    "y_rapid=rap\n",
    "y_fusion=fusi\n",
    "plt.plot(M,y_selection,label='tri_de_selection')\n",
    "plt.plot(M,y_insertion,label='tri_dinsertion')\n",
    "plt.plot(M,y_bulle,label=\"tri abulle\")\n",
    "plt.plot(M,y_rapid,label=\"tri rapide\")\n",
    "plt.plot(M,y_fusion,label=\"tri de fusion\")\n",
    "plt.xlabel(\"la complexité N\")\n",
    "plt.ylabel(\"temps\")\n",
    "plt.legend()\n",
    "plt.show()"
   ]
  },
  {
   "cell_type": "code",
   "execution_count": null,
   "metadata": {},
   "outputs": [],
   "source": []
  }
 ],
 "metadata": {
  "kernelspec": {
   "display_name": "Python 3",
   "language": "python",
   "name": "python3"
  },
  "language_info": {
   "codemirror_mode": {
    "name": "ipython",
    "version": 3
   },
   "file_extension": ".py",
   "mimetype": "text/x-python",
   "name": "python",
   "nbconvert_exporter": "python",
   "pygments_lexer": "ipython3",
   "version": "3.8.3"
  }
 },
 "nbformat": 4,
 "nbformat_minor": 4
}
